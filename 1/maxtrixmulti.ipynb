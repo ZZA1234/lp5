{
  "nbformat": 4,
  "nbformat_minor": 0,
  "metadata": {
    "colab": {
      "provenance": [],
      "gpuType": "T4"
    },
    "kernelspec": {
      "name": "python3",
      "display_name": "Python 3"
    },
    "language_info": {
      "name": "python"
    },
    "accelerator": "GPU"
  },
  "cells": [
    {
      "cell_type": "code",
      "execution_count": 2,
      "metadata": {
        "colab": {
          "base_uri": "https://localhost:8080/"
        },
        "id": "gpx0HLjxffXX",
        "outputId": "a6cc779e-765f-4559-81bf-4480ca73eaf7"
      },
      "outputs": [
        {
          "output_type": "stream",
          "name": "stdout",
          "text": [
            "nvcc: NVIDIA (R) Cuda compiler driver\n",
            "Copyright (c) 2005-2024 NVIDIA Corporation\n",
            "Built on Thu_Jun__6_02:18:23_PDT_2024\n",
            "Cuda compilation tools, release 12.5, V12.5.82\n",
            "Build cuda_12.5.r12.5/compiler.34385749_0\n"
          ]
        }
      ],
      "source": [
        "!nvcc --version"
      ]
    },
    {
      "cell_type": "code",
      "source": [
        "%%writefile main.cu\n",
        "#include <stdio.h>\n",
        "#include <stdlib.h>\n",
        "#include <cuda_runtime.h>\n",
        "#include \"kernel.cuh\"\n",
        "\n",
        "#define MAX_PRINT_SIZE 10\n",
        "\n",
        "void print_matrix(int *mat, int rows, int cols, const char* name) {\n",
        "    printf(\"%s =\\n\", name);\n",
        "    for (int i = 0; i < rows && i < MAX_PRINT_SIZE; ++i) {\n",
        "        for (int j = 0; j < cols && j < MAX_PRINT_SIZE; ++j) {\n",
        "            printf(\"%5d \", mat[i * cols + j]);\n",
        "        }\n",
        "        if (cols > MAX_PRINT_SIZE) printf(\"...\");\n",
        "        printf(\"\\n\");\n",
        "    }\n",
        "    if (rows > MAX_PRINT_SIZE) printf(\"...\\n\");\n",
        "    printf(\"\\n\");\n",
        "}\n",
        "\n",
        "int main() {\n",
        "    int m, n, k;\n",
        "    printf(\"Enter m (rows of A), n (cols of A / rows of B), k (cols of B): \");\n",
        "    scanf(\"%d %d %d\", &m, &n, &k);\n",
        "\n",
        "    int *h_a, *h_b, *h_c, *h_cpu;\n",
        "    cudaMallocHost(&h_a, sizeof(int) * m * n);\n",
        "    cudaMallocHost(&h_b, sizeof(int) * n * k);\n",
        "    cudaMallocHost(&h_c, sizeof(int) * m * k);\n",
        "    cudaMallocHost(&h_cpu, sizeof(int) * m * k);\n",
        "\n",
        "    for (int i = 0; i < m * n; ++i)\n",
        "        h_a[i] = rand() % 10;\n",
        "    for (int i = 0; i < n * k; ++i)\n",
        "        h_b[i] = rand() % 10;\n",
        "\n",
        "    cudaEvent_t start, stop;\n",
        "    float gpu_time, cpu_time;\n",
        "    cudaEventCreate(&start);\n",
        "    cudaEventCreate(&stop);\n",
        "\n",
        "    // GPU multiplication\n",
        "    cudaEventRecord(start);\n",
        "    matrixMultiply(h_a, h_b, h_c, m, n, k);\n",
        "    cudaEventRecord(stop);\n",
        "    cudaEventSynchronize(stop);\n",
        "    cudaEventElapsedTime(&gpu_time, start, stop);\n",
        "\n",
        "    // CPU multiplication\n",
        "    cudaEventRecord(start);\n",
        "    cpu_matrix_mult(h_a, h_b, h_cpu, m, n, k);\n",
        "    cudaEventRecord(stop);\n",
        "    cudaEventSynchronize(stop);\n",
        "    cudaEventElapsedTime(&cpu_time, start, stop);\n",
        "\n",
        "    // Print matrices\n",
        "    print_matrix(h_a, m, n, \"Matrix A\");\n",
        "    print_matrix(h_b, n, k, \"Matrix B\");\n",
        "    print_matrix(h_c, m, k, \"Resultant Matrix C (GPU)\");\n",
        "\n",
        "    // Verify results\n",
        "    int correct = 1;\n",
        "    for (int i = 0; i < m * k; ++i) {\n",
        "        if (h_c[i] != h_cpu[i]) {\n",
        "            correct = 0;\n",
        "            break;\n",
        "        }\n",
        "    }\n",
        "\n",
        "    printf(\"GPU time: %.3f ms\\n\", gpu_time);\n",
        "    printf(\"CPU time: %.3f ms\\n\", cpu_time);\n",
        "    if (correct)\n",
        "        printf(\"✅ Results match! Speedup = %.2fx\\n\", cpu_time / gpu_time);\n",
        "    else\n",
        "        printf(\"❌ Results mismatch.\\n\");\n",
        "\n",
        "    cudaFreeHost(h_a);\n",
        "    cudaFreeHost(h_b);\n",
        "    cudaFreeHost(h_c);\n",
        "    cudaFreeHost(h_cpu);\n",
        "    cudaEventDestroy(start);\n",
        "    cudaEventDestroy(stop);\n",
        "\n",
        "    return 0;\n",
        "}\n"
      ],
      "metadata": {
        "colab": {
          "base_uri": "https://localhost:8080/"
        },
        "id": "8202Rtu5f5u1",
        "outputId": "24d46b73-24a3-442f-91bd-af77700dc2ab"
      },
      "execution_count": 10,
      "outputs": [
        {
          "output_type": "stream",
          "name": "stdout",
          "text": [
            "Overwriting main.cu\n"
          ]
        }
      ]
    },
    {
      "cell_type": "code",
      "source": [
        "%%writefile kernel.cuh\n",
        "#ifndef KERNEL_CUH_\n",
        "#define KERNEL_CUH_\n",
        "\n",
        "void matrixMultiply(int *h_a, int *h_b, int *h_c, int m, int n, int k);\n",
        "void cpu_matrix_mult(int *a, int *b, int *c, int m, int n, int k);\n",
        "\n",
        "#endif"
      ],
      "metadata": {
        "colab": {
          "base_uri": "https://localhost:8080/"
        },
        "id": "IVXsV5x9f9Xh",
        "outputId": "56323545-2ed6-446d-eedc-47b263b32708"
      },
      "execution_count": 8,
      "outputs": [
        {
          "output_type": "stream",
          "name": "stdout",
          "text": [
            "Overwriting kernel.cuh\n"
          ]
        }
      ]
    },
    {
      "cell_type": "code",
      "source": [
        "%%writefile kernel.cu\n",
        "#include <cuda_runtime.h>\n",
        "#include \"kernel.cuh\"\n",
        "\n",
        "#define BLOCK_SIZE 16\n",
        "\n",
        "__global__ void gpu_matrix_mult(int *a, int *b, int *c, int m, int n, int k) {\n",
        "    int row = blockIdx.y * blockDim.y + threadIdx.y;\n",
        "    int col = blockIdx.x * blockDim.x + threadIdx.x;\n",
        "    int sum = 0;\n",
        "\n",
        "    if (row < m && col < k) {\n",
        "        for (int i = 0; i < n; ++i)\n",
        "            sum += a[row * n + i] * b[i * k + col];\n",
        "        c[row * k + col] = sum;\n",
        "    }\n",
        "}\n",
        "\n",
        "void matrixMultiply(int *h_a, int *h_b, int *h_c, int m, int n, int k) {\n",
        "    int *d_a, *d_b, *d_c;\n",
        "    size_t sizeA = sizeof(int) * m * n;\n",
        "    size_t sizeB = sizeof(int) * n * k;\n",
        "    size_t sizeC = sizeof(int) * m * k;\n",
        "\n",
        "    cudaMalloc(&d_a, sizeA);\n",
        "    cudaMalloc(&d_b, sizeB);\n",
        "    cudaMalloc(&d_c, sizeC);\n",
        "\n",
        "    cudaMemcpy(d_a, h_a, sizeA, cudaMemcpyHostToDevice);\n",
        "    cudaMemcpy(d_b, h_b, sizeB, cudaMemcpyHostToDevice);\n",
        "\n",
        "    dim3 dimBlock(BLOCK_SIZE, BLOCK_SIZE);\n",
        "    dim3 dimGrid((k + BLOCK_SIZE - 1) / BLOCK_SIZE, (m + BLOCK_SIZE - 1) / BLOCK_SIZE);\n",
        "\n",
        "    gpu_matrix_mult<<<dimGrid, dimBlock>>>(d_a, d_b, d_c, m, n, k);\n",
        "    cudaDeviceSynchronize();\n",
        "\n",
        "    cudaMemcpy(h_c, d_c, sizeC, cudaMemcpyDeviceToHost);\n",
        "\n",
        "    cudaFree(d_a);\n",
        "    cudaFree(d_b);\n",
        "    cudaFree(d_c);\n",
        "}\n",
        "\n",
        "void cpu_matrix_mult(int *a, int *b, int *c, int m, int n, int k) {\n",
        "    for (int i = 0; i < m; ++i)\n",
        "        for (int j = 0; j < k; ++j) {\n",
        "            int sum = 0;\n",
        "            for (int h = 0; h < n; ++h)\n",
        "                sum += a[i * n + h] * b[h * k + j];\n",
        "            c[i * k + j] = sum;\n",
        "        }\n",
        "}\n"
      ],
      "metadata": {
        "colab": {
          "base_uri": "https://localhost:8080/"
        },
        "id": "ZNAgrUg1gBco",
        "outputId": "faf07258-07ec-4f4b-eac9-abd1489e1793"
      },
      "execution_count": 9,
      "outputs": [
        {
          "output_type": "stream",
          "name": "stdout",
          "text": [
            "Overwriting kernel.cu\n"
          ]
        }
      ]
    },
    {
      "cell_type": "code",
      "source": [
        "!nvcc -arch=sm_75 main.cu kernel.cu -o matrixmul\n",
        "!./matrixmul"
      ],
      "metadata": {
        "colab": {
          "base_uri": "https://localhost:8080/"
        },
        "id": "FETVzHT2hupp",
        "outputId": "b872a3ae-4a94-432f-ff3c-15002b786cc6"
      },
      "execution_count": 11,
      "outputs": [
        {
          "output_type": "stream",
          "name": "stdout",
          "text": [
            "Enter m (rows of A), n (cols of A / rows of B), k (cols of B): 10 10 10\n",
            "Matrix A =\n",
            "    3     6     7     5     3     5     6     2     9     1 \n",
            "    2     7     0     9     3     6     0     6     2     6 \n",
            "    1     8     7     9     2     0     2     3     7     5 \n",
            "    9     2     2     8     9     7     3     6     1     2 \n",
            "    9     3     1     9     4     7     8     4     5     0 \n",
            "    3     6     1     0     6     3     2     0     6     1 \n",
            "    5     5     4     7     6     5     6     9     3     7 \n",
            "    4     5     2     5     4     7     4     4     3     0 \n",
            "    7     8     6     8     8     4     3     1     4     9 \n",
            "    2     0     6     8     9     2     6     6     4     9 \n",
            "\n",
            "Matrix B =\n",
            "    5     0     4     8     7     1     7     2     7     2 \n",
            "    2     6     1     0     6     1     5     9     4     9 \n",
            "    0     9     1     7     7     1     1     5     9     7 \n",
            "    7     6     7     3     6     5     6     3     9     4 \n",
            "    8     1     2     9     3     9     0     8     8     5 \n",
            "    0     9     6     3     8     5     6     1     1     5 \n",
            "    9     8     4     8     1     0     3     0     4     4 \n",
            "    4     4     7     6     3     1     7     5     9     6 \n",
            "    2     1     7     8     5     7     4     1     8     5 \n",
            "    9     7     5     3     8     8     3     1     8     9 \n",
            "\n",
            "Resultant Matrix C (GPU) =\n",
            "  175   249   202   265   250   166   189   159   304   259 \n",
            "  193   221   206   158   243   179   207   162   271   248 \n",
            "  189   237   189   207   250   171   178   179   330   275 \n",
            "  248   213   227   286   262   198   226   182   330   233 \n",
            "  244   233   248   291   255   168   247   141   312   224 \n",
            "  114   107   104   161   146   129   103   123   169   159 \n",
            "  291   295   263   305   297   214   250   204   392   322 \n",
            "  155   196   173   198   201   132   179   140   226   197 \n",
            "  291   289   230   295   341   254   226   226   400   339 \n",
            "  305   268   239   312   263   245   183   175   396   294 \n",
            "\n",
            "GPU time: 0.352 ms\n",
            "CPU time: 0.004 ms\n",
            "✅ Results match! Speedup = 0.01x\n"
          ]
        }
      ]
    }
  ]
}
